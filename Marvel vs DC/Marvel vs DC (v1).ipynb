{
 "cells": [
  {
   "cell_type": "markdown",
   "metadata": {
    "id": "-2AOley56pem"
   },
   "source": [
    "# **Os dados não mentem** - Por que a Marvel é melhor que a DC (parte 1)\n",
    "---\n",
    "\n",
    "Você, talvez como todo nerd que se preze, já deve ter se perguntado ou se deparado com a seguinte questão: *Quem é melhor? Marvel ou DC?*\n",
    "\n",
    "Como parte dos meus estudos em Data Science, resolvi fazer uma análise de dados em cima dessa discussão `polêmica`.\n",
    "\n",
    "Mas, antes que você pegue o seu caderno de argumentos e brigue comigo, iremos analisar de maneira *objetiva* os dados de alguns filmes da Marvel e da DC."
   ]
  },
  {
   "cell_type": "markdown",
   "metadata": {
    "id": "M3-1m-NDXLqb"
   },
   "source": [
    "# **Configurando o ambiente**"
   ]
  },
  {
   "cell_type": "markdown",
   "metadata": {
    "id": "_oazXpjV6qUN"
   },
   "source": [
    "O [Colab](https://colab.research.google.com/notebooks/intro.ipynb) é uma ferramenta da Google que fornece um ambiente para desenvolvimento em Python muito parecido com o Jupyter Notebook e é o que irei utilizar.\n",
    "\n",
    "Como o ambiente é online, não é preciso instalar nenhum programa adicional, além de trazer diversas bibliotecas já pré-instaladas e prontas para serem importadas. Uma dessas bibliotecas é o **Pandas**, o melhor amigo de todo cientista de dados.\n",
    "\n",
    "Começaremos importando essa biblioteca com o comando **import** e dando um apelido **pd**, uma convenção útil para evitar que outros métodos em python se sobreponham aos métodos do Pandas. Dessa forma, sempre que fomos chamar algum método dessa biblioteca, temos que utilizar a seguinte forma: `pd.<método>`"
   ]
  },
  {
   "cell_type": "code",
   "execution_count": 1,
   "metadata": {
    "id": "RzOlTsWZItvI"
   },
   "outputs": [],
   "source": [
    "import pandas as pd"
   ]
  },
  {
   "cell_type": "markdown",
   "metadata": {
    "id": "_vBZq61MHXRl"
   },
   "source": [
    "Outra biblioteca muito comum é o **Seaborn**, utilizada para plotar gráficos de diversos tipos. Apesar de existirem outras bibliotecas até mais poderosas com o mesmo objetivo, como o **Matplotlib**, o Seaborn é mais simples e fácil de utilizar, como veremos mais pra frente.\n",
    "\n",
    "Vamos importá-la de forma semelhante ao que fizemos com o Pandas e logo em seguida, configurar o tema dos nossos gráficos para um fundo mais claro."
   ]
  },
  {
   "cell_type": "code",
   "execution_count": 2,
   "metadata": {
    "id": "fi2niFSEHJiM"
   },
   "outputs": [],
   "source": [
    "import seaborn as sns\n",
    "sns.set_style(\"whitegrid\")"
   ]
  },
  {
   "cell_type": "markdown",
   "metadata": {
    "id": "clcZqB6WabDu"
   },
   "source": [
    "# **Primeiras Análises**"
   ]
  },
  {
   "cell_type": "markdown",
   "metadata": {
    "id": "bF8V-5D7ZBZ_"
   },
   "source": [
    "No site [Kaggle](https://www.kaggle.com/), é possível encontrar alguns datasets disponibilizados pela comunidade. Escolhi este para iniciar nossa breve análise de dados. A temática deste dataset é **Marvel vs DC**, o embate do século! Quais filmes são melhores? Quais deram mais lucro ou tiveram um maior orçamento?\n",
    "\n",
    "\n",
    "Vou tentar responder algumas dessas perguntas apenas analisando alguns dados deste dataset. Caso tenham interesse nele, podem [acessar aqui](https://www.kaggle.com/leonardopena/marvel-vs-dc/)."
   ]
  },
  {
   "cell_type": "markdown",
   "metadata": {
    "id": "Y5CTOHTk1rGB"
   },
   "source": [
    "\n",
    "\n",
    "Vamos começar importando-o com o método **pd.read_csv()** e configurar para não importar a primeira linha com o nome das colunas, usando o parâmetro *index_col = 0*.\n",
    "\n",
    "Logo em seguida, vamos utilizar o método **pd.head()** para listar as cinco primeiras linhas do nosso conjunto de dados. Podemos listar um número maior ou menor, passando como parâmetro da função."
   ]
  },
  {
   "cell_type": "code",
   "execution_count": 3,
   "metadata": {
    "colab": {
     "base_uri": "https://localhost:8080/",
     "height": 349
    },
    "id": "vrIXqkFJ0P-b",
    "outputId": "637cda60-6568-49e8-f3ad-06366349788c"
   },
   "outputs": [
    {
     "data": {
      "text/html": [
       "<div>\n",
       "<style scoped>\n",
       "    .dataframe tbody tr th:only-of-type {\n",
       "        vertical-align: middle;\n",
       "    }\n",
       "\n",
       "    .dataframe tbody tr th {\n",
       "        vertical-align: top;\n",
       "    }\n",
       "\n",
       "    .dataframe thead th {\n",
       "        text-align: right;\n",
       "    }\n",
       "</style>\n",
       "<table border=\"1\" class=\"dataframe\">\n",
       "  <thead>\n",
       "    <tr style=\"text-align: right;\">\n",
       "      <th></th>\n",
       "      <th>Original Title</th>\n",
       "      <th>Company</th>\n",
       "      <th>Rate</th>\n",
       "      <th>Metascore</th>\n",
       "      <th>Minutes</th>\n",
       "      <th>Release</th>\n",
       "      <th>Budget</th>\n",
       "      <th>Opening Weekend USA</th>\n",
       "      <th>Gross USA</th>\n",
       "      <th>Gross Worldwide</th>\n",
       "    </tr>\n",
       "  </thead>\n",
       "  <tbody>\n",
       "    <tr>\n",
       "      <th>1</th>\n",
       "      <td>Iron Man</td>\n",
       "      <td>Marvel</td>\n",
       "      <td>7.9</td>\n",
       "      <td>79</td>\n",
       "      <td>126</td>\n",
       "      <td>2008</td>\n",
       "      <td>140000000</td>\n",
       "      <td>98618668</td>\n",
       "      <td>318604126</td>\n",
       "      <td>585366247</td>\n",
       "    </tr>\n",
       "    <tr>\n",
       "      <th>2</th>\n",
       "      <td>The Incredible Hulk</td>\n",
       "      <td>Marvel</td>\n",
       "      <td>6.7</td>\n",
       "      <td>61</td>\n",
       "      <td>112</td>\n",
       "      <td>2008</td>\n",
       "      <td>150000000</td>\n",
       "      <td>55414050</td>\n",
       "      <td>134806913</td>\n",
       "      <td>263427551</td>\n",
       "    </tr>\n",
       "    <tr>\n",
       "      <th>3</th>\n",
       "      <td>Iron Man 2</td>\n",
       "      <td>Marvel</td>\n",
       "      <td>7.0</td>\n",
       "      <td>57</td>\n",
       "      <td>124</td>\n",
       "      <td>2010</td>\n",
       "      <td>200000000</td>\n",
       "      <td>128122480</td>\n",
       "      <td>312433331</td>\n",
       "      <td>623933331</td>\n",
       "    </tr>\n",
       "    <tr>\n",
       "      <th>4</th>\n",
       "      <td>Thor</td>\n",
       "      <td>Marvel</td>\n",
       "      <td>7.0</td>\n",
       "      <td>57</td>\n",
       "      <td>115</td>\n",
       "      <td>2011</td>\n",
       "      <td>150000000</td>\n",
       "      <td>65723338</td>\n",
       "      <td>181030624</td>\n",
       "      <td>449326618</td>\n",
       "    </tr>\n",
       "    <tr>\n",
       "      <th>5</th>\n",
       "      <td>Captain America: The First Avenger</td>\n",
       "      <td>Marvel</td>\n",
       "      <td>6.9</td>\n",
       "      <td>66</td>\n",
       "      <td>124</td>\n",
       "      <td>2011</td>\n",
       "      <td>140000000</td>\n",
       "      <td>65058524</td>\n",
       "      <td>176654505</td>\n",
       "      <td>370569774</td>\n",
       "    </tr>\n",
       "  </tbody>\n",
       "</table>\n",
       "</div>"
      ],
      "text/plain": [
       "                       Original Title Company  ...  Gross USA  Gross Worldwide\n",
       "1                            Iron Man  Marvel  ...  318604126        585366247\n",
       "2                 The Incredible Hulk  Marvel  ...  134806913        263427551\n",
       "3                          Iron Man 2  Marvel  ...  312433331        623933331\n",
       "4                                Thor  Marvel  ...  181030624        449326618\n",
       "5  Captain America: The First Avenger  Marvel  ...  176654505        370569774\n",
       "\n",
       "[5 rows x 10 columns]"
      ]
     },
     "execution_count": 3,
     "metadata": {
      "tags": []
     },
     "output_type": "execute_result"
    }
   ],
   "source": [
    "db1 = pd.read_csv('db1.csv', index_col = 0)\n",
    "db1.head()"
   ]
  },
  {
   "cell_type": "markdown",
   "metadata": {
    "id": "i1ZEpStu047w"
   },
   "source": [
    "Como podemos ver, temos algumas informações importantes para a nossa análise, como nome, nota do IMDB e duração em minutos para cada filme.\n",
    "\n",
    "Mas antes, vamos separar os filmes de cada universo para um melhor entendimento, selecionando algumas linhas."
   ]
  },
  {
   "cell_type": "markdown",
   "metadata": {
    "id": "zJGgpBG8dTU_"
   },
   "source": [
    "No Pandas, o nome das colunas pode ser usado pra acessar seus valores:\n",
    "`db['coluna']` ou `db.coluna`.\n",
    "\n",
    "Para filtrar algumas linhas, podemos passar a condição do filtro diretamente como índice:\n",
    "\n",
    "```\n",
    "filtro = db['coluna'] condição\n",
    "db[filtro]\n",
    "```\n",
    "\n",
    "\n",
    "Dessa forma, na linha 5 filtramos a coluna *Company* com o valor *Marvel*.\n",
    "Na última linha, utilizamos a função **describe()** para obter um resumo estatísticos das colunas do dataset, como média, valores min e/ou máx e etc."
   ]
  },
  {
   "cell_type": "code",
   "execution_count": 6,
   "metadata": {
    "colab": {
     "base_uri": "https://localhost:8080/",
     "height": 282
    },
    "id": "-dHs-zoD0yFj",
    "outputId": "e73d1195-1761-4a63-9875-ac74696d5265"
   },
   "outputs": [
    {
     "data": {
      "text/html": [
       "<div>\n",
       "<style scoped>\n",
       "    .dataframe tbody tr th:only-of-type {\n",
       "        vertical-align: middle;\n",
       "    }\n",
       "\n",
       "    .dataframe tbody tr th {\n",
       "        vertical-align: top;\n",
       "    }\n",
       "\n",
       "    .dataframe thead th {\n",
       "        text-align: right;\n",
       "    }\n",
       "</style>\n",
       "<table border=\"1\" class=\"dataframe\">\n",
       "  <thead>\n",
       "    <tr style=\"text-align: right;\">\n",
       "      <th></th>\n",
       "      <th>Rate</th>\n",
       "      <th>Metascore</th>\n",
       "      <th>Release</th>\n",
       "      <th>Opening Weekend USA</th>\n",
       "      <th>Gross USA</th>\n",
       "      <th>Gross Worldwide</th>\n",
       "    </tr>\n",
       "  </thead>\n",
       "  <tbody>\n",
       "    <tr>\n",
       "      <th>count</th>\n",
       "      <td>23.000000</td>\n",
       "      <td>23.000000</td>\n",
       "      <td>23.000000</td>\n",
       "      <td>2.300000e+01</td>\n",
       "      <td>2.300000e+01</td>\n",
       "      <td>2.300000e+01</td>\n",
       "    </tr>\n",
       "    <tr>\n",
       "      <th>mean</th>\n",
       "      <td>7.478261</td>\n",
       "      <td>68.652174</td>\n",
       "      <td>2014.695652</td>\n",
       "      <td>1.350966e+08</td>\n",
       "      <td>3.715423e+08</td>\n",
       "      <td>9.819657e+08</td>\n",
       "    </tr>\n",
       "    <tr>\n",
       "      <th>std</th>\n",
       "      <td>0.502681</td>\n",
       "      <td>7.906319</td>\n",
       "      <td>3.443502</td>\n",
       "      <td>7.343531e+07</td>\n",
       "      <td>1.882024e+08</td>\n",
       "      <td>5.770283e+08</td>\n",
       "    </tr>\n",
       "    <tr>\n",
       "      <th>min</th>\n",
       "      <td>6.700000</td>\n",
       "      <td>54.000000</td>\n",
       "      <td>2008.000000</td>\n",
       "      <td>5.541405e+07</td>\n",
       "      <td>1.348069e+08</td>\n",
       "      <td>2.634276e+08</td>\n",
       "    </tr>\n",
       "    <tr>\n",
       "      <th>25%</th>\n",
       "      <td>7.050000</td>\n",
       "      <td>64.000000</td>\n",
       "      <td>2012.500000</td>\n",
       "      <td>8.539808e+07</td>\n",
       "      <td>2.246453e+08</td>\n",
       "      <td>6.233037e+08</td>\n",
       "    </tr>\n",
       "    <tr>\n",
       "      <th>50%</th>\n",
       "      <td>7.400000</td>\n",
       "      <td>69.000000</td>\n",
       "      <td>2015.000000</td>\n",
       "      <td>1.170275e+08</td>\n",
       "      <td>3.331766e+08</td>\n",
       "      <td>8.539771e+08</td>\n",
       "    </tr>\n",
       "    <tr>\n",
       "      <th>75%</th>\n",
       "      <td>7.850000</td>\n",
       "      <td>73.500000</td>\n",
       "      <td>2017.500000</td>\n",
       "      <td>1.766419e+08</td>\n",
       "      <td>4.179219e+08</td>\n",
       "      <td>1.184054e+09</td>\n",
       "    </tr>\n",
       "    <tr>\n",
       "      <th>max</th>\n",
       "      <td>8.500000</td>\n",
       "      <td>88.000000</td>\n",
       "      <td>2019.000000</td>\n",
       "      <td>3.571150e+08</td>\n",
       "      <td>8.583730e+08</td>\n",
       "      <td>2.797801e+09</td>\n",
       "    </tr>\n",
       "  </tbody>\n",
       "</table>\n",
       "</div>"
      ],
      "text/plain": [
       "            Rate  Metascore  ...     Gross USA  Gross Worldwide\n",
       "count  23.000000  23.000000  ...  2.300000e+01     2.300000e+01\n",
       "mean    7.478261  68.652174  ...  3.715423e+08     9.819657e+08\n",
       "std     0.502681   7.906319  ...  1.882024e+08     5.770283e+08\n",
       "min     6.700000  54.000000  ...  1.348069e+08     2.634276e+08\n",
       "25%     7.050000  64.000000  ...  2.246453e+08     6.233037e+08\n",
       "50%     7.400000  69.000000  ...  3.331766e+08     8.539771e+08\n",
       "75%     7.850000  73.500000  ...  4.179219e+08     1.184054e+09\n",
       "max     8.500000  88.000000  ...  8.583730e+08     2.797801e+09\n",
       "\n",
       "[8 rows x 6 columns]"
      ]
     },
     "execution_count": 6,
     "metadata": {
      "tags": []
     },
     "output_type": "execute_result"
    }
   ],
   "source": [
    "# condição do filtro\n",
    "filter = db1['Company'] == 'Marvel'\n",
    "\n",
    "# filtrando\n",
    "marvel = db1[filter]\n",
    "marvel.describe()"
   ]
  },
  {
   "cell_type": "markdown",
   "metadata": {
    "id": "-0o_bmkT2L2p"
   },
   "source": [
    "Como podemos ver, temos **23** filmes da Marvel e a média de nota deles é **7.47**, uma nota relativamente alta para os padrões do IMDB. Mas como será essa nota para filmes da DC?"
   ]
  },
  {
   "cell_type": "code",
   "execution_count": 8,
   "metadata": {
    "colab": {
     "base_uri": "https://localhost:8080/",
     "height": 282
    },
    "id": "hsPFeDFP1POv",
    "outputId": "6d489009-e2ba-437d-b570-1c8bc32058f8"
   },
   "outputs": [
    {
     "data": {
      "text/html": [
       "<div>\n",
       "<style scoped>\n",
       "    .dataframe tbody tr th:only-of-type {\n",
       "        vertical-align: middle;\n",
       "    }\n",
       "\n",
       "    .dataframe tbody tr th {\n",
       "        vertical-align: top;\n",
       "    }\n",
       "\n",
       "    .dataframe thead th {\n",
       "        text-align: right;\n",
       "    }\n",
       "</style>\n",
       "<table border=\"1\" class=\"dataframe\">\n",
       "  <thead>\n",
       "    <tr style=\"text-align: right;\">\n",
       "      <th></th>\n",
       "      <th>Rate</th>\n",
       "      <th>Metascore</th>\n",
       "      <th>Release</th>\n",
       "      <th>Opening Weekend USA</th>\n",
       "      <th>Gross USA</th>\n",
       "      <th>Gross Worldwide</th>\n",
       "    </tr>\n",
       "  </thead>\n",
       "  <tbody>\n",
       "    <tr>\n",
       "      <th>count</th>\n",
       "      <td>16.000000</td>\n",
       "      <td>16.000000</td>\n",
       "      <td>16.000000</td>\n",
       "      <td>1.600000e+01</td>\n",
       "      <td>1.600000e+01</td>\n",
       "      <td>1.600000e+01</td>\n",
       "    </tr>\n",
       "    <tr>\n",
       "      <th>mean</th>\n",
       "      <td>6.806250</td>\n",
       "      <td>56.500000</td>\n",
       "      <td>2012.500000</td>\n",
       "      <td>8.637872e+07</td>\n",
       "      <td>2.538687e+08</td>\n",
       "      <td>6.056326e+08</td>\n",
       "    </tr>\n",
       "    <tr>\n",
       "      <th>std</th>\n",
       "      <td>1.507081</td>\n",
       "      <td>17.381983</td>\n",
       "      <td>5.112077</td>\n",
       "      <td>5.042523e+07</td>\n",
       "      <td>1.485506e+08</td>\n",
       "      <td>3.779985e+08</td>\n",
       "    </tr>\n",
       "    <tr>\n",
       "      <th>min</th>\n",
       "      <td>3.300000</td>\n",
       "      <td>27.000000</td>\n",
       "      <td>2004.000000</td>\n",
       "      <td>5.379365e+06</td>\n",
       "      <td>1.054712e+07</td>\n",
       "      <td>1.090331e+07</td>\n",
       "    </tr>\n",
       "    <tr>\n",
       "      <th>25%</th>\n",
       "      <td>6.000000</td>\n",
       "      <td>43.000000</td>\n",
       "      <td>2008.750000</td>\n",
       "      <td>5.301450e+07</td>\n",
       "      <td>1.344290e+08</td>\n",
       "      <td>3.283915e+08</td>\n",
       "    </tr>\n",
       "    <tr>\n",
       "      <th>50%</th>\n",
       "      <td>7.050000</td>\n",
       "      <td>55.500000</td>\n",
       "      <td>2012.500000</td>\n",
       "      <td>8.085788e+07</td>\n",
       "      <td>2.600349e+08</td>\n",
       "      <td>6.629849e+08</td>\n",
       "    </tr>\n",
       "    <tr>\n",
       "      <th>75%</th>\n",
       "      <td>7.750000</td>\n",
       "      <td>71.250000</td>\n",
       "      <td>2017.000000</td>\n",
       "      <td>1.208851e+08</td>\n",
       "      <td>3.336689e+08</td>\n",
       "      <td>9.064597e+08</td>\n",
       "    </tr>\n",
       "    <tr>\n",
       "      <th>max</th>\n",
       "      <td>9.000000</td>\n",
       "      <td>84.000000</td>\n",
       "      <td>2019.000000</td>\n",
       "      <td>1.660073e+08</td>\n",
       "      <td>5.352340e+08</td>\n",
       "      <td>1.148162e+09</td>\n",
       "    </tr>\n",
       "  </tbody>\n",
       "</table>\n",
       "</div>"
      ],
      "text/plain": [
       "            Rate  Metascore  ...     Gross USA  Gross Worldwide\n",
       "count  16.000000  16.000000  ...  1.600000e+01     1.600000e+01\n",
       "mean    6.806250  56.500000  ...  2.538687e+08     6.056326e+08\n",
       "std     1.507081  17.381983  ...  1.485506e+08     3.779985e+08\n",
       "min     3.300000  27.000000  ...  1.054712e+07     1.090331e+07\n",
       "25%     6.000000  43.000000  ...  1.344290e+08     3.283915e+08\n",
       "50%     7.050000  55.500000  ...  2.600349e+08     6.629849e+08\n",
       "75%     7.750000  71.250000  ...  3.336689e+08     9.064597e+08\n",
       "max     9.000000  84.000000  ...  5.352340e+08     1.148162e+09\n",
       "\n",
       "[8 rows x 6 columns]"
      ]
     },
     "execution_count": 8,
     "metadata": {
      "tags": []
     },
     "output_type": "execute_result"
    }
   ],
   "source": [
    "# condição do filtro\n",
    "filter = db1['Company'] == 'DC'\n",
    "\n",
    "# filtrando\n",
    "dc = db1[filter]\n",
    "dc.describe()"
   ]
  },
  {
   "cell_type": "markdown",
   "metadata": {
    "id": "Au8v1pzI1K6C"
   },
   "source": [
    "Como vimos, a nota média dos filmes da DC é **6.80**, menor que a média dos filmes da Marvel!\n",
    "\n",
    "Mas aí você vai virar para mim e falar: *Mas Marcela, na sua análise a DC tem apenas 16 filmes contra os 23 da Marvel!*\n",
    "\n",
    "Calma pequeno fã, vamos tentar melhorar essa análise comparando o top 5 filmes de cada uma delas. Para isso, vamos utilizar a função **sort()**.\n"
   ]
  },
  {
   "cell_type": "code",
   "execution_count": 9,
   "metadata": {
    "colab": {
     "base_uri": "https://localhost:8080/",
     "height": 315
    },
    "id": "k9_SUms41J6i",
    "outputId": "ea311dd1-4731-4496-ec4c-e9f1228efaa4"
   },
   "outputs": [
    {
     "data": {
      "text/html": [
       "<div>\n",
       "<style scoped>\n",
       "    .dataframe tbody tr th:only-of-type {\n",
       "        vertical-align: middle;\n",
       "    }\n",
       "\n",
       "    .dataframe tbody tr th {\n",
       "        vertical-align: top;\n",
       "    }\n",
       "\n",
       "    .dataframe thead th {\n",
       "        text-align: right;\n",
       "    }\n",
       "</style>\n",
       "<table border=\"1\" class=\"dataframe\">\n",
       "  <thead>\n",
       "    <tr style=\"text-align: right;\">\n",
       "      <th></th>\n",
       "      <th>Original Title</th>\n",
       "      <th>Company</th>\n",
       "      <th>Rate</th>\n",
       "      <th>Metascore</th>\n",
       "      <th>Minutes</th>\n",
       "      <th>Release</th>\n",
       "      <th>Budget</th>\n",
       "      <th>Opening Weekend USA</th>\n",
       "      <th>Gross USA</th>\n",
       "      <th>Gross Worldwide</th>\n",
       "    </tr>\n",
       "  </thead>\n",
       "  <tbody>\n",
       "    <tr>\n",
       "      <th>27</th>\n",
       "      <td>The Dark Knight</td>\n",
       "      <td>DC</td>\n",
       "      <td>9.0</td>\n",
       "      <td>84</td>\n",
       "      <td>152</td>\n",
       "      <td>2008</td>\n",
       "      <td>185000000</td>\n",
       "      <td>158411483</td>\n",
       "      <td>535234033</td>\n",
       "      <td>1004934033</td>\n",
       "    </tr>\n",
       "    <tr>\n",
       "      <th>39</th>\n",
       "      <td>Joker</td>\n",
       "      <td>DC</td>\n",
       "      <td>8.7</td>\n",
       "      <td>59</td>\n",
       "      <td>122</td>\n",
       "      <td>2019</td>\n",
       "      <td>55000000</td>\n",
       "      <td>96202337</td>\n",
       "      <td>333204580</td>\n",
       "      <td>1060504580</td>\n",
       "    </tr>\n",
       "    <tr>\n",
       "      <th>31</th>\n",
       "      <td>The Dark Knight Rises</td>\n",
       "      <td>DC</td>\n",
       "      <td>8.4</td>\n",
       "      <td>78</td>\n",
       "      <td>164</td>\n",
       "      <td>2012</td>\n",
       "      <td>250000000</td>\n",
       "      <td>160887295</td>\n",
       "      <td>448139099</td>\n",
       "      <td>1081041287</td>\n",
       "    </tr>\n",
       "    <tr>\n",
       "      <th>25</th>\n",
       "      <td>Batman Begins</td>\n",
       "      <td>DC</td>\n",
       "      <td>8.2</td>\n",
       "      <td>70</td>\n",
       "      <td>140</td>\n",
       "      <td>2005</td>\n",
       "      <td>150000000</td>\n",
       "      <td>48745440</td>\n",
       "      <td>206852432</td>\n",
       "      <td>373413297</td>\n",
       "    </tr>\n",
       "    <tr>\n",
       "      <th>28</th>\n",
       "      <td>Watchmen</td>\n",
       "      <td>DC</td>\n",
       "      <td>7.6</td>\n",
       "      <td>56</td>\n",
       "      <td>162</td>\n",
       "      <td>2009</td>\n",
       "      <td>130000000</td>\n",
       "      <td>55214334</td>\n",
       "      <td>107509799</td>\n",
       "      <td>185258983</td>\n",
       "    </tr>\n",
       "  </tbody>\n",
       "</table>\n",
       "</div>"
      ],
      "text/plain": [
       "           Original Title Company  ...  Gross USA  Gross Worldwide\n",
       "27        The Dark Knight      DC  ...  535234033       1004934033\n",
       "39                  Joker      DC  ...  333204580       1060504580\n",
       "31  The Dark Knight Rises      DC  ...  448139099       1081041287\n",
       "25          Batman Begins      DC  ...  206852432        373413297\n",
       "28               Watchmen      DC  ...  107509799        185258983\n",
       "\n",
       "[5 rows x 10 columns]"
      ]
     },
     "execution_count": 9,
     "metadata": {
      "tags": []
     },
     "output_type": "execute_result"
    }
   ],
   "source": [
    "top_dc = dc.sort_values(by='Rate', ascending=False).head()\n",
    "top_dc"
   ]
  },
  {
   "cell_type": "code",
   "execution_count": 10,
   "metadata": {
    "colab": {
     "base_uri": "https://localhost:8080/",
     "height": 349
    },
    "id": "ykk5u-4VHlW1",
    "outputId": "2ddad35b-addd-48a3-8600-e9848a709de3"
   },
   "outputs": [
    {
     "data": {
      "text/html": [
       "<div>\n",
       "<style scoped>\n",
       "    .dataframe tbody tr th:only-of-type {\n",
       "        vertical-align: middle;\n",
       "    }\n",
       "\n",
       "    .dataframe tbody tr th {\n",
       "        vertical-align: top;\n",
       "    }\n",
       "\n",
       "    .dataframe thead th {\n",
       "        text-align: right;\n",
       "    }\n",
       "</style>\n",
       "<table border=\"1\" class=\"dataframe\">\n",
       "  <thead>\n",
       "    <tr style=\"text-align: right;\">\n",
       "      <th></th>\n",
       "      <th>Original Title</th>\n",
       "      <th>Company</th>\n",
       "      <th>Rate</th>\n",
       "      <th>Metascore</th>\n",
       "      <th>Minutes</th>\n",
       "      <th>Release</th>\n",
       "      <th>Budget</th>\n",
       "      <th>Opening Weekend USA</th>\n",
       "      <th>Gross USA</th>\n",
       "      <th>Gross Worldwide</th>\n",
       "    </tr>\n",
       "  </thead>\n",
       "  <tbody>\n",
       "    <tr>\n",
       "      <th>22</th>\n",
       "      <td>Avengers: Endgame</td>\n",
       "      <td>Marvel</td>\n",
       "      <td>8.5</td>\n",
       "      <td>78</td>\n",
       "      <td>181</td>\n",
       "      <td>2019</td>\n",
       "      <td>356000000</td>\n",
       "      <td>357115007</td>\n",
       "      <td>858373000</td>\n",
       "      <td>2797800564</td>\n",
       "    </tr>\n",
       "    <tr>\n",
       "      <th>19</th>\n",
       "      <td>Avengers: Infinity War</td>\n",
       "      <td>Marvel</td>\n",
       "      <td>8.5</td>\n",
       "      <td>68</td>\n",
       "      <td>149</td>\n",
       "      <td>2018</td>\n",
       "      <td>321000000</td>\n",
       "      <td>257698183</td>\n",
       "      <td>678815482</td>\n",
       "      <td>2048359754</td>\n",
       "    </tr>\n",
       "    <tr>\n",
       "      <th>10</th>\n",
       "      <td>Guardians of the Galaxy</td>\n",
       "      <td>Marvel</td>\n",
       "      <td>8.0</td>\n",
       "      <td>76</td>\n",
       "      <td>121</td>\n",
       "      <td>2014</td>\n",
       "      <td>170000000</td>\n",
       "      <td>94320883</td>\n",
       "      <td>333176600</td>\n",
       "      <td>772776600</td>\n",
       "    </tr>\n",
       "    <tr>\n",
       "      <th>6</th>\n",
       "      <td>The Avengers</td>\n",
       "      <td>Marvel</td>\n",
       "      <td>8.0</td>\n",
       "      <td>69</td>\n",
       "      <td>143</td>\n",
       "      <td>2012</td>\n",
       "      <td>220000000</td>\n",
       "      <td>207438708</td>\n",
       "      <td>623357910</td>\n",
       "      <td>1518812988</td>\n",
       "    </tr>\n",
       "    <tr>\n",
       "      <th>1</th>\n",
       "      <td>Iron Man</td>\n",
       "      <td>Marvel</td>\n",
       "      <td>7.9</td>\n",
       "      <td>79</td>\n",
       "      <td>126</td>\n",
       "      <td>2008</td>\n",
       "      <td>140000000</td>\n",
       "      <td>98618668</td>\n",
       "      <td>318604126</td>\n",
       "      <td>585366247</td>\n",
       "    </tr>\n",
       "  </tbody>\n",
       "</table>\n",
       "</div>"
      ],
      "text/plain": [
       "             Original Title Company  ...  Gross USA  Gross Worldwide\n",
       "22        Avengers: Endgame  Marvel  ...  858373000       2797800564\n",
       "19   Avengers: Infinity War  Marvel  ...  678815482       2048359754\n",
       "10  Guardians of the Galaxy  Marvel  ...  333176600        772776600\n",
       "6              The Avengers  Marvel  ...  623357910       1518812988\n",
       "1                  Iron Man  Marvel  ...  318604126        585366247\n",
       "\n",
       "[5 rows x 10 columns]"
      ]
     },
     "execution_count": 10,
     "metadata": {
      "tags": []
     },
     "output_type": "execute_result"
    }
   ],
   "source": [
    "top_marvel = marvel.sort_values(by='Rate', ascending=False).head()\n",
    "top_marvel"
   ]
  },
  {
   "cell_type": "code",
   "execution_count": null,
   "metadata": {
    "colab": {
     "base_uri": "https://localhost:8080/",
     "height": 70
    },
    "id": "Sum3_w1PIsSj",
    "outputId": "9db5c393-ad04-4044-fb7a-730501612d2c"
   },
   "outputs": [
    {
     "name": "stdout",
     "output_type": "stream",
     "text": [
      "Média dos 5 filmes mais bem avaliados:\n",
      "DC - 8.38.\n",
      "Marvel - 8.18.\n"
     ]
    }
   ],
   "source": [
    "print('Média dos 5 filmes mais bem avaliados:')\n",
    "print('DC - {}.'.format(round(top_dc['Rate'].mean(),2)))\n",
    "print('Marvel - {}.'.format(round(top_marvel['Rate'].mean(),2)))"
   ]
  },
  {
   "cell_type": "markdown",
   "metadata": {
    "id": "JTFk8jpl09zh"
   },
   "source": [
    "De acordo com as informações, a média dos 5 melhores avaliados para DC é **8.38** enquanto que para a Marvel é **8.18**. Certo `fanboy`, você tem o ponto. Mas e se compararmos os 5 piores filmes de cada uma? Como fica essa disputa?\n",
    "\n"
   ]
  },
  {
   "cell_type": "code",
   "execution_count": null,
   "metadata": {
    "colab": {
     "base_uri": "https://localhost:8080/",
     "height": 70
    },
    "id": "Kw2KhLOLUEGK",
    "outputId": "d76ff657-b642-435e-a453-30ec6263406c"
   },
   "outputs": [
    {
     "name": "stdout",
     "output_type": "stream",
     "text": [
      "Média dos 5 piores filmes:\n",
      "DC - 5.1.\n",
      "Marvel - 6.88.\n"
     ]
    }
   ],
   "source": [
    "piores_dc = dc.sort_values(by='Rate', ascending=True).head(5)\n",
    "piores_marvel = marvel.sort_values(by='Rate', ascending=True).head(5)\n",
    "\n",
    "print('Média dos 5 piores filmes:')\n",
    "print('DC - {}.'.format(round(piores_dc['Rate'].mean(),2)))\n",
    "print('Marvel - {}.'.format(round(piores_marvel['Rate'].mean(),2)))"
   ]
  },
  {
   "cell_type": "markdown",
   "metadata": {
    "id": "7Ylq-86_UDVm"
   },
   "source": [
    "Aha!! Considerando os 5 piores filmes de cada uma, a Marvel tem uma média de **6.88** contra a média de **5.1** da DC. *Onde está o seu Deus agora??*\n"
   ]
  },
  {
   "cell_type": "markdown",
   "metadata": {
    "id": "3ULVKcUOJDct"
   },
   "source": [
    "\n",
    "Outra análise que podemos fazer é observar a quantidade de filmes lançados ano a ano. Quem tem lançado mais filmes nos últimos anos? Para responder a essa pergunta, vamos utilizar o **Seaborn** para gerar um gráfico de barras com o método **sns.countplot()**."
   ]
  },
  {
   "cell_type": "code",
   "execution_count": null,
   "metadata": {
    "colab": {
     "base_uri": "https://localhost:8080/",
     "height": 413
    },
    "id": "0a8OCJcnLLWk",
    "outputId": "2c7076cb-ba69-48b4-bd50-fe9470ae4c4e"
   },
   "outputs": [
    {
     "data": {
      "image/png": "[encoded data removed]",
      "text/plain": [
       "<Figure size 720x432 with 1 Axes>"
      ]
     },
     "metadata": {
      "tags": []
     },
     "output_type": "display_data"
    }
   ],
   "source": [
    "# Gráfico propriamente dito\n",
    "ax = sns.countplot(x=\"Release\", hue='Company', palette=[\"red\", \"dodgerblue\"],\n",
    "                    data=db1)\n",
    "\n",
    "# Configurando tamanho e títulos do nosso gráfico\n",
    "ax.figure.set_size_inches(10,6)\n",
    "ax.set_title(\"Filmes Marvel e DC\", fontsize = 20)\n",
    "ax.set_xlabel('Ano de Lançamento', fontsize = 14)\n",
    "ax.set_ylabel('Quantidade de Filmes', fontsize = 14)\n",
    "\n",
    "# Esse pedaço de código serve apenas para tirar o título da caixa de legendas\n",
    "handles, labels = ax.get_legend_handles_labels()\n",
    "ax.legend(handles=handles, labels=labels)\n",
    "\n",
    "ax = ax"
   ]
  },
  {
   "cell_type": "markdown",
   "metadata": {
    "id": "XKD3IV93Rzya"
   },
   "source": [
    "Apesar da constância da DC em lançar pelo menos um filme quase todo ano, a Marvel lançou bastante filmes nos últimos cinco anos.\n",
    "\n",
    "Ok, você vai falar que isso não diz nada, mas e se analisarmos também a média da nota ao longo desses anos? Como ficaria o gráfico?"
   ]
  },
  {
   "cell_type": "markdown",
   "metadata": {
    "id": "b5Vbtk_Xsyo1"
   },
   "source": [
    "Para facilitar nossa vida, antes de plotar, temos que agrupar nossos dados pelo ano e calcular a média das notas.\n",
    "\n",
    "Vamos agrupar nossos dados com a função **groupby()** e extrair a média com o trecho **agg(['mean'])**. Após isso, vamos renomear nossas colunas (linha 3)."
   ]
  },
  {
   "cell_type": "code",
   "execution_count": null,
   "metadata": {
    "colab": {
     "base_uri": "https://localhost:8080/",
     "height": 197
    },
    "id": "dlw_A9hAWtJs",
    "outputId": "d536d333-96ec-4cc7-e6de-8669633535be"
   },
   "outputs": [
    {
     "data": {
      "text/html": [
       "<div>\n",
       "<style scoped>\n",
       "    .dataframe tbody tr th:only-of-type {\n",
       "        vertical-align: middle;\n",
       "    }\n",
       "\n",
       "    .dataframe tbody tr th {\n",
       "        vertical-align: top;\n",
       "    }\n",
       "\n",
       "    .dataframe thead th {\n",
       "        text-align: right;\n",
       "    }\n",
       "</style>\n",
       "<table border=\"1\" class=\"dataframe\">\n",
       "  <thead>\n",
       "    <tr style=\"text-align: right;\">\n",
       "      <th></th>\n",
       "      <th>Ano</th>\n",
       "      <th>Compania</th>\n",
       "      <th>Média da Nota</th>\n",
       "    </tr>\n",
       "  </thead>\n",
       "  <tbody>\n",
       "    <tr>\n",
       "      <th>0</th>\n",
       "      <td>2004</td>\n",
       "      <td>DC</td>\n",
       "      <td>3.3</td>\n",
       "    </tr>\n",
       "    <tr>\n",
       "      <th>1</th>\n",
       "      <td>2005</td>\n",
       "      <td>DC</td>\n",
       "      <td>8.2</td>\n",
       "    </tr>\n",
       "    <tr>\n",
       "      <th>2</th>\n",
       "      <td>2006</td>\n",
       "      <td>DC</td>\n",
       "      <td>6.0</td>\n",
       "    </tr>\n",
       "    <tr>\n",
       "      <th>3</th>\n",
       "      <td>2008</td>\n",
       "      <td>DC</td>\n",
       "      <td>9.0</td>\n",
       "    </tr>\n",
       "    <tr>\n",
       "      <th>4</th>\n",
       "      <td>2008</td>\n",
       "      <td>Marvel</td>\n",
       "      <td>7.3</td>\n",
       "    </tr>\n",
       "  </tbody>\n",
       "</table>\n",
       "</div>"
      ],
      "text/plain": [
       "    Ano Compania  Média da Nota\n",
       "0  2004       DC            3.3\n",
       "1  2005       DC            8.2\n",
       "2  2006       DC            6.0\n",
       "3  2008       DC            9.0\n",
       "4  2008   Marvel            7.3"
      ]
     },
     "execution_count": 146,
     "metadata": {
      "tags": []
     },
     "output_type": "execute_result"
    }
   ],
   "source": [
    "dados_por_ano = db1[['Rate']].groupby([db1['Release'], db1['Company']]).agg(['mean'])\n",
    "dados_por_ano.reset_index(inplace=True)\n",
    "dados_por_ano.columns = ['Ano', 'Compania', 'Média da Nota']\n",
    "dados_por_ano.head()"
   ]
  },
  {
   "cell_type": "markdown",
   "metadata": {
    "id": "QdlQUGiAvzfK"
   },
   "source": [
    "Agora que agrupamos nossos dados, vamos plotar um gráfico de linha com o método **sns.lineplot()** do Seaborn."
   ]
  },
  {
   "cell_type": "code",
   "execution_count": null,
   "metadata": {
    "colab": {
     "base_uri": "https://localhost:8080/",
     "height": 413
    },
    "id": "_9mKiXR66AqS",
    "outputId": "8e275a37-030a-4054-af37-cd5c3bf83228"
   },
   "outputs": [
    {
     "data": {
      "image/png": "[encoded data removed]",
      "text/plain": [
       "<Figure size 720x432 with 1 Axes>"
      ]
     },
     "metadata": {
      "tags": []
     },
     "output_type": "display_data"
    }
   ],
   "source": [
    "# Gráfico propriamente dito\n",
    "ax = sns.lineplot(x='Ano', y='Média da Nota', hue='Compania',\n",
    "                  palette=[\"dodgerblue\", \"red\"], marker='o',\n",
    "                  data=dados_por_ano)\n",
    "\n",
    "\n",
    "# Configurando tamanho e títulos do nosso gráfico\n",
    "ax.figure.set_size_inches(10,6)\n",
    "ax.set_title(\"Filmes Marvel e DC\", fontsize = 20)\n",
    "ax.set_xlabel('Ano de Lançamento', fontsize = 14)\n",
    "ax.set_ylabel('Média das Notas', fontsize = 14)\n",
    "\n",
    "# Recuperando as duas linhas do nosso gráfico de linha\n",
    "l1 = ax.lines[0]\n",
    "l2 = ax.lines[1]\n",
    "\n",
    "# Preenchendo a área abaixo das linhas do gráfico\n",
    "x1 = l1.get_xydata()[:,0]\n",
    "y1 = l1.get_xydata()[:,1]\n",
    "x2 = l2.get_xydata()[:,0]\n",
    "y2 = l2.get_xydata()[:,1]\n",
    "ax.fill_between(x1, y1, color=\"dodgerblue\", alpha=0.3)\n",
    "ax.fill_between(x2, y2, color=\"red\", alpha=0.3)\n",
    "\n",
    "# Esse pedaço de código serve apenas para tirar o título da caixa de legendas.\n",
    "handles, labels = ax.get_legend_handles_labels()\n",
    "ax.legend(handles=handles, labels=labels)\n",
    "\n",
    "# Aqui nós setamos o eixo Y para começar no valor 3, para melhor visualização\n",
    "# Mas cuidado! Quando você utiliza esse recurso,\n",
    "# pode acabar confundindo quem lê o gráfico\n",
    "ax.set_ylim(ymin=3)\n",
    "\n",
    "ax = ax"
   ]
  },
  {
   "cell_type": "markdown",
   "metadata": {
    "id": "T9PZsMXcX9lZ"
   },
   "source": [
    "Se analisarmos o código dos dois gráficos, percebemos que o **Seaborn** é bastante intuitivo e fácil de utilizar. "
   ]
  },
  {
   "cell_type": "markdown",
   "metadata": {
    "id": "yZxd9ZsX4Ffc"
   },
   "source": [
    "Voltando à nossa discussão, no gráfico acima é fácil perceber que a DC tem diversos altos e baixos, enquanto que a Marvel possui praticamente a mesma média todos os anos, possuindo ~~qualidade~~ valor constante.\n",
    "\n",
    "Ou seja, de acordo com todas as análises que fizemos até agora, podemos chegar a uma *breve* conclusão de que a Marvel ~sempre~ foi superior à DC."
   ]
  },
  {
   "cell_type": "markdown",
   "metadata": {
    "id": "D5AkbgLQSOhX"
   },
   "source": [
    "![Image](https://media.giphy.com/media/7PezAC43dOks8/giphy.gif)"
   ]
  },
  {
   "cell_type": "markdown",
   "metadata": {
    "id": "hsFCIgc6S_cC"
   },
   "source": [
    "Aposto que você ainda não se convenceu, mas não se preocupe meu caro `fanboy`, faremos uma análise mais aprofundada no nosso próximo artigo. Iremos expandir nosso universo, analisando não apenas filmes e séries da Marvel e da DC, mas também conteúdo baseado nos quadrinhos dessas duas Companias.\n",
    "\n",
    "E para isso, iremos utilizar algumas informações do próprio site do IMDB através de uma API bem interessante. Até lá!"
   ]
  }
 ],
 "metadata": {
  "colab": {
   "collapsed_sections": [
    "-2AOley56pem",
    "hRFcUFZ7yssF",
    "uG0M3SPeRrJY",
    "RhvBCm7GwiPy",
    "oRRT7IgVI_Nj",
    "Vykg2_lXy0-W",
    "6pVrnaU7M7ly",
    "tqXoLmq1OzlP",
    "KyeirnKjZOHY",
    "UcWHfeiEwrTO"
   ],
   "name": "Marvel vs DC (v1).ipynb",
   "provenance": []
  },
  "hide_input": false,
  "kernelspec": {
   "display_name": "Python 3",
   "language": "python",
   "name": "python3"
  },
  "language_info": {
   "codemirror_mode": {
    "name": "ipython",
    "version": 3
   },
   "file_extension": ".py",
   "mimetype": "text/x-python",
   "name": "python",
   "nbconvert_exporter": "python",
   "pygments_lexer": "ipython3",
   "version": "3.7.3"
  },
  "toc": {
   "base_numbering": 1,
   "nav_menu": {},
   "number_sections": true,
   "sideBar": true,
   "skip_h1_title": false,
   "title_cell": "Table of Contents",
   "title_sidebar": "Contents",
   "toc_cell": false,
   "toc_position": {},
   "toc_section_display": true,
   "toc_window_display": false
  }
 },
 "nbformat": 4,
 "nbformat_minor": 1
}
